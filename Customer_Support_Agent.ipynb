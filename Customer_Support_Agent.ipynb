{
  "nbformat": 4,
  "nbformat_minor": 0,
  "metadata": {
    "colab": {
      "provenance": [],
      "authorship_tag": "ABX9TyO40/bg+PPxZ+pGk49dWRij",
      "include_colab_link": true
    },
    "kernelspec": {
      "name": "python3",
      "display_name": "Python 3"
    },
    "language_info": {
      "name": "python"
    }
  },
  "cells": [
    {
      "cell_type": "markdown",
      "metadata": {
        "id": "view-in-github",
        "colab_type": "text"
      },
      "source": [
        "<a href=\"https://colab.research.google.com/github/kalai2315/Langchain_for_AgentiAI/blob/main/Customer_Support_Agent.ipynb\" target=\"_parent\"><img src=\"https://colab.research.google.com/assets/colab-badge.svg\" alt=\"Open In Colab\"/></a>"
      ]
    },
    {
      "cell_type": "markdown",
      "source": [
        "# Mini Project 1: Building a Customer Support Agent"
      ],
      "metadata": {
        "id": "VW9PcevaZUvE"
      }
    },
    {
      "cell_type": "code",
      "execution_count": null,
      "metadata": {
        "colab": {
          "base_uri": "https://localhost:8080/"
        },
        "id": "5EEN4W3ulwNC",
        "outputId": "5a026f83-f08f-43bf-a313-dc34fa1bc707"
      },
      "outputs": [
        {
          "output_type": "stream",
          "name": "stdout",
          "text": [
            "\u001b[?25l   \u001b[90m━━━━━━━━━━━━━━━━━━━━━━━━━━━━━━━━━━━━━━━━\u001b[0m \u001b[32m0.0/1.0 MB\u001b[0m \u001b[31m?\u001b[0m eta \u001b[36m-:--:--\u001b[0m\r\u001b[2K   \u001b[91m━━━━━━━━━━━━━━━━━━━━━━━━━━\u001b[0m\u001b[90m╺\u001b[0m\u001b[90m━━━━━━━━━━━━━\u001b[0m \u001b[32m0.7/1.0 MB\u001b[0m \u001b[31m20.4 MB/s\u001b[0m eta \u001b[36m0:00:01\u001b[0m\r\u001b[2K   \u001b[91m━━━━━━━━━━━━━━━━━━━━━━━━━━━━━━━━━━━━━━━\u001b[0m\u001b[91m╸\u001b[0m \u001b[32m1.0/1.0 MB\u001b[0m \u001b[31m21.0 MB/s\u001b[0m eta \u001b[36m0:00:01\u001b[0m\r\u001b[2K   \u001b[90m━━━━━━━━━━━━━━━━━━━━━━━━━━━━━━━━━━━━━━━━\u001b[0m \u001b[32m1.0/1.0 MB\u001b[0m \u001b[31m11.8 MB/s\u001b[0m eta \u001b[36m0:00:00\u001b[0m\n",
            "\u001b[2K   \u001b[90m━━━━━━━━━━━━━━━━━━━━━━━━━━━━━━━━━━━━━━━━\u001b[0m \u001b[32m44.8/44.8 kB\u001b[0m \u001b[31m2.1 MB/s\u001b[0m eta \u001b[36m0:00:00\u001b[0m\n",
            "\u001b[2K   \u001b[90m━━━━━━━━━━━━━━━━━━━━━━━━━━━━━━━━━━━━━━━━\u001b[0m \u001b[32m2.5/2.5 MB\u001b[0m \u001b[31m25.8 MB/s\u001b[0m eta \u001b[36m0:00:00\u001b[0m\n",
            "\u001b[2K   \u001b[90m━━━━━━━━━━━━━━━━━━━━━━━━━━━━━━━━━━━━━━━━\u001b[0m \u001b[32m1.4/1.4 MB\u001b[0m \u001b[31m18.2 MB/s\u001b[0m eta \u001b[36m0:00:00\u001b[0m\n",
            "\u001b[2K   \u001b[90m━━━━━━━━━━━━━━━━━━━━━━━━━━━━━━━━━━━━━━━━\u001b[0m \u001b[32m438.9/438.9 kB\u001b[0m \u001b[31m10.4 MB/s\u001b[0m eta \u001b[36m0:00:00\u001b[0m\n",
            "\u001b[2K   \u001b[90m━━━━━━━━━━━━━━━━━━━━━━━━━━━━━━━━━━━━━━━━\u001b[0m \u001b[32m45.2/45.2 kB\u001b[0m \u001b[31m806.3 kB/s\u001b[0m eta \u001b[36m0:00:00\u001b[0m\n",
            "\u001b[2K   \u001b[90m━━━━━━━━━━━━━━━━━━━━━━━━━━━━━━━━━━━━━━━━\u001b[0m \u001b[32m50.9/50.9 kB\u001b[0m \u001b[31m2.2 MB/s\u001b[0m eta \u001b[36m0:00:00\u001b[0m\n",
            "\u001b[?25h\u001b[31mERROR: pip's dependency resolver does not currently take into account all the packages that are installed. This behaviour is the source of the following dependency conflicts.\n",
            "google-generativeai 0.8.5 requires google-ai-generativelanguage==0.6.15, but you have google-ai-generativelanguage 0.6.18 which is incompatible.\u001b[0m\u001b[31m\n",
            "\u001b[0m"
          ]
        }
      ],
      "source": [
        "%pip install -U --quiet langchain langchain-google-genai langchain-community"
      ]
    },
    {
      "cell_type": "code",
      "source": [
        "import os\n",
        "from getpass import getpass\n",
        "\n",
        "os.environ[\"GOOGLE_API_KEY\"] = getpass(\"Enter your Google API Key: \")"
      ],
      "metadata": {
        "colab": {
          "base_uri": "https://localhost:8080/"
        },
        "id": "trlCfmZMmBfo",
        "outputId": "8be08f28-cb3e-4a62-edc0-1f155932bd75"
      },
      "execution_count": null,
      "outputs": [
        {
          "name": "stdout",
          "output_type": "stream",
          "text": [
            "Enter your Google API Key: ··········\n"
          ]
        }
      ]
    },
    {
      "cell_type": "code",
      "source": [
        "from langchain_google_genai import ChatGoogleGenerativeAI\n",
        "llm = ChatGoogleGenerativeAI(model = \"gemini-1.5-flash-latest\")"
      ],
      "metadata": {
        "id": "Ihtbfjc7mP5y"
      },
      "execution_count": null,
      "outputs": []
    },
    {
      "cell_type": "markdown",
      "source": [
        "### **Linking multiple chains** sequentially in LangChain means executing multiple Chain objects one after the other, where the output of one chain becomes the input of the next."
      ],
      "metadata": {
        "id": "v0nt1kZOmzrW"
      }
    },
    {
      "cell_type": "code",
      "source": [
        "it_support_queue = [\n",
        "    \"I can't access my email. It keeps showing an error message. Please help.\",\n",
        "    \"Tengo problemas con la VPN. No puedo conectarme a la red de la empresa. ¿Pueden ayudarme, por favor?\",\n",
        "    \"Mon imprimante ne répond pas et n'imprime plus. J'ai besoin d'aide pour la réparer.\",\n",
        "    \"我无法访问公司的网站。每次都显示错误信息。请帮忙解决。\"\n",
        "]\n",
        "it_support_queue"
      ],
      "metadata": {
        "colab": {
          "base_uri": "https://localhost:8080/"
        },
        "id": "SzfTEFWkmU1g",
        "outputId": "e932b910-c208-4e84-bfee-d9d780587993"
      },
      "execution_count": null,
      "outputs": [
        {
          "output_type": "execute_result",
          "data": {
            "text/plain": [
              "[\"I can't access my email. It keeps showing an error message. Please help.\",\n",
              " 'Tengo problemas con la VPN. No puedo conectarme a la red de la empresa. ¿Pueden ayudarme, por favor?',\n",
              " \"Mon imprimante ne répond pas et n'imprime plus. J'ai besoin d'aide pour la réparer.\",\n",
              " '我无法访问公司的网站。每次都显示错误信息。请帮忙解决。']"
            ]
          },
          "metadata": {},
          "execution_count": 4
        }
      ]
    },
    {
      "cell_type": "code",
      "source": [
        "from langchain_core.prompts import ChatPromptTemplate"
      ],
      "metadata": {
        "id": "dP86wDS9ni7C"
      },
      "execution_count": null,
      "outputs": []
    },
    {
      "cell_type": "code",
      "source": [
        "from langchain_core.output_parsers import StrOutputParser"
      ],
      "metadata": {
        "id": "x-tyIhRLn0wL"
      },
      "execution_count": null,
      "outputs": []
    },
    {
      "cell_type": "code",
      "source": [
        "#chain 1: Detect customer message language\n",
        "\n",
        "prompt1 = \"\"\"\n",
        "          Act as a customer support agent.\n",
        "          For the customer support message delimited below by triple backticks.\n",
        "          Output the language of the message by one word. eg: spanish\n",
        "\n",
        "          customer support message: ```{orig_message}```\n",
        "          \"\"\"\n",
        "prompt_template1 = ChatPromptTemplate.from_template(prompt1)\n",
        "llm_chain1 = (prompt_template1 | llm | StrOutputParser())"
      ],
      "metadata": {
        "id": "9ogYxx2sn9Lk"
      },
      "execution_count": null,
      "outputs": []
    },
    {
      "cell_type": "code",
      "source": [
        "prompt_template1 = ChatPromptTemplate.from_template(prompt1)"
      ],
      "metadata": {
        "id": "joQCpIlbo5ld"
      },
      "execution_count": null,
      "outputs": []
    },
    {
      "cell_type": "code",
      "source": [
        "llm_chain1 = (prompt_template1 | llm | StrOutputParser())"
      ],
      "metadata": {
        "id": "t8A9VSdYpMjN"
      },
      "execution_count": null,
      "outputs": []
    },
    {
      "cell_type": "code",
      "source": [
        "it_support_queue[1]"
      ],
      "metadata": {
        "colab": {
          "base_uri": "https://localhost:8080/",
          "height": 35
        },
        "id": "fDz-7ig5pU5_",
        "outputId": "d972af51-03e9-4b2a-8164-c0f6a963db81"
      },
      "execution_count": null,
      "outputs": [
        {
          "output_type": "execute_result",
          "data": {
            "text/plain": [
              "'Tengo problemas con la VPN. No puedo conectarme a la red de la empresa. ¿Pueden ayudarme, por favor?'"
            ],
            "application/vnd.google.colaboratory.intrinsic+json": {
              "type": "string"
            }
          },
          "metadata": {},
          "execution_count": 10
        }
      ]
    },
    {
      "cell_type": "code",
      "source": [
        "{\"orig_message\": it_support_queue[1]}"
      ],
      "metadata": {
        "colab": {
          "base_uri": "https://localhost:8080/"
        },
        "id": "0BFxnXSAXAEa",
        "outputId": "399bcca6-1a5f-4aff-9c01-72e3d1fe8f68"
      },
      "execution_count": null,
      "outputs": [
        {
          "output_type": "execute_result",
          "data": {
            "text/plain": [
              "{'orig_message': 'Tengo problemas con la VPN. No puedo conectarme a la red de la empresa. ¿Pueden ayudarme, por favor?'}"
            ]
          },
          "metadata": {},
          "execution_count": 32
        }
      ]
    },
    {
      "cell_type": "code",
      "source": [
        "llm_chain1.invoke({\"orig_message\": it_support_queue[1]})"
      ],
      "metadata": {
        "colab": {
          "base_uri": "https://localhost:8080/",
          "height": 35
        },
        "id": "MvuMVE0GpjZh",
        "outputId": "bf083f1a-4b04-4489-fe1c-d39430a9ab6f"
      },
      "execution_count": null,
      "outputs": [
        {
          "output_type": "execute_result",
          "data": {
            "text/plain": [
              "'Spanish'"
            ],
            "application/vnd.google.colaboratory.intrinsic+json": {
              "type": "string"
            }
          },
          "metadata": {},
          "execution_count": 11
        }
      ]
    },
    {
      "cell_type": "code",
      "source": [
        "from langchain.schema.runnable import RunnablePassthrough\n",
        "\n",
        "RunnablePassthrough.assign(language=llm_chain1).invoke({\"orig_message\": it_support_queue[1]})"
      ],
      "metadata": {
        "colab": {
          "base_uri": "https://localhost:8080/"
        },
        "id": "k6ikX8crpt-R",
        "outputId": "21dd5257-e70e-4091-e031-ed5768f6ef49"
      },
      "execution_count": null,
      "outputs": [
        {
          "output_type": "execute_result",
          "data": {
            "text/plain": [
              "{'orig_message': 'Tengo problemas con la VPN. No puedo conectarme a la red de la empresa. ¿Pueden ayudarme, por favor?',\n",
              " 'language': 'Spanish'}"
            ]
          },
          "metadata": {},
          "execution_count": 12
        }
      ]
    },
    {
      "cell_type": "code",
      "source": [
        "#chain2: translate the customer message to English\n",
        "\n",
        "prompt2 = \"\"\"\n",
        "          Act as a customer support agent.\n",
        "          For the customer support message and customer support message language delimited below by triple backticks.\n",
        "          Translate the customer support message from customer support message language to English.\n",
        "          if customer message language is not in English\n",
        "          else return back the customer support message as it is.\n",
        "\n",
        "          customer support message: ```{orig_message}```\n",
        "          customer support message language: ```{orig_language}```\n",
        "          \"\"\"\n",
        "prompt_template2 = ChatPromptTemplate.from_template(prompt2)\n",
        "\n",
        "llm_chain2 = (prompt_template2 | llm | StrOutputParser())\n"
      ],
      "metadata": {
        "id": "ZUBiBd7EqSZt"
      },
      "execution_count": null,
      "outputs": []
    },
    {
      "cell_type": "code",
      "source": [
        "tran_message = llm_chain2.invoke({\n",
        "    \"orig_message\": it_support_queue[1],\n",
        "    \"orig_language\": 'Spanish'\n",
        "})"
      ],
      "metadata": {
        "id": "1vMuaH3XThFy"
      },
      "execution_count": null,
      "outputs": []
    },
    {
      "cell_type": "code",
      "source": [
        "tran_message"
      ],
      "metadata": {
        "colab": {
          "base_uri": "https://localhost:8080/",
          "height": 35
        },
        "id": "xl5rfTdIVMHi",
        "outputId": "272862e3-ecb5-488d-cc8c-adc0581bb583"
      },
      "execution_count": null,
      "outputs": [
        {
          "output_type": "execute_result",
          "data": {
            "text/plain": [
              "\"I'm having problems with the VPN. I can't connect to the company network. Can you please help me?\""
            ],
            "application/vnd.google.colaboratory.intrinsic+json": {
              "type": "string"
            }
          },
          "metadata": {},
          "execution_count": 17
        }
      ]
    },
    {
      "cell_type": "code",
      "source": [
        "#chain3: Generate a resolution response in English\n",
        "\n",
        "prompt3 = \"\"\"\n",
        "          Act as a customer support agent.\n",
        "          For the customer support message delimited below by triple backticks.\n",
        "          Generate a resolution response in English.\n",
        "\n",
        "          customer support message: ```{tran_message}```\n",
        "          \"\"\"\n",
        "prompt_template3 = ChatPromptTemplate.from_template(prompt3)\n",
        "\n",
        "llm_chain3 = (prompt_template3 | llm | StrOutputParser())\n"
      ],
      "metadata": {
        "id": "IZYAbwRIruT1"
      },
      "execution_count": null,
      "outputs": []
    },
    {
      "cell_type": "code",
      "source": [
        "tran_response = llm_chain3.invoke({\"tran_message\": tran_message})\n",
        "print(tran_response)"
      ],
      "metadata": {
        "colab": {
          "base_uri": "https://localhost:8080/"
        },
        "id": "Ebzl1OmeVQF9",
        "outputId": "66082da2-904f-4435-f0c6-2937d82901b2"
      },
      "execution_count": null,
      "outputs": [
        {
          "output_type": "stream",
          "name": "stdout",
          "text": [
            "Thank you for contacting support. I understand you're having trouble connecting to the company network via VPN.  To help me troubleshoot this issue, could you please provide me with the following information:\n",
            "\n",
            "* **What operating system are you using?** (e.g., Windows 10, macOS Monterey, iOS 16, Android 13)\n",
            "* **What VPN client are you using?** (e.g., Cisco AnyConnect, OpenVPN, etc.)\n",
            "* **What error message, if any, are you receiving?** Please provide the exact wording.\n",
            "* **Have you tried restarting your computer and/or your router?**\n",
            "* **Are you able to connect to the internet outside of the VPN?**\n",
            "\n",
            "Once I have this information, I can better assist you in resolving the connection issue.  In the meantime, you may also want to check your company's internal network documentation or helpdesk for any known outages or issues.\n"
          ]
        }
      ]
    },
    {
      "cell_type": "code",
      "source": [
        "#chain4: Translate the resolution response from English to the Customer's language\n",
        "\n",
        "prompt4 = \"\"\"\n",
        "          Act as a customer support agent.\n",
        "          For the customer resolution response and target language delimited below by triple backticks.\n",
        "          Translate the resolution response from English to the target language.\n",
        "          if customer message language is not in English\n",
        "          else return back the customer support message as it is.\n",
        "\n",
        "          customer resolution response: ```{tran_response}```\n",
        "          targetlanguage: ```{orig_language}```\n",
        "          \"\"\"\n",
        "prompt_template4 = ChatPromptTemplate.from_template(prompt4)\n",
        "\n",
        "llm_chain4 = (prompt_template4 | llm | StrOutputParser())"
      ],
      "metadata": {
        "id": "92UY9Va3sieR"
      },
      "execution_count": null,
      "outputs": []
    },
    {
      "cell_type": "code",
      "source": [
        "# Step 4: Translate response to customer's language\n",
        "final_response = llm_chain4.invoke({\n",
        "    \"tran_response\": tran_response,\n",
        "    \"orig_language\": 'Spanish'\n",
        "})"
      ],
      "metadata": {
        "id": "J0qsSfj7VzX0"
      },
      "execution_count": null,
      "outputs": []
    },
    {
      "cell_type": "code",
      "source": [
        "print(final_response)"
      ],
      "metadata": {
        "colab": {
          "base_uri": "https://localhost:8080/"
        },
        "id": "n8eZdk54WdMI",
        "outputId": "fb863035-5a56-4a9d-8a71-1d65018ca5c1"
      },
      "execution_count": null,
      "outputs": [
        {
          "output_type": "stream",
          "name": "stdout",
          "text": [
            "```\n",
            "Gracias por contactar con el soporte técnico. Entiendo que tiene problemas para conectarse a la red de la empresa a través de VPN. Para ayudarme a solucionar este problema, ¿podría proporcionarme la siguiente información?\n",
            "\n",
            "* **¿Qué sistema operativo está utilizando?** (p. ej., Windows 10, macOS Monterey, iOS 16, Android 13)\n",
            "* **¿Qué cliente VPN está utilizando?** (p. ej., Cisco AnyConnect, OpenVPN, etc.)\n",
            "* **¿Qué mensaje de error, si hay alguno, está recibiendo?** Por favor, proporcione la redacción exacta.\n",
            "* **¿Ha intentado reiniciar su ordenador y/o su router?**\n",
            "* **¿Puede conectarse a internet fuera de la VPN?**\n",
            "\n",
            "Una vez que tenga esta información, podré ayudarle mejor a resolver el problema de conexión. Mientras tanto, también puede consultar la documentación de la red interna de su empresa o el servicio de asistencia técnica para ver si hay alguna interrupción o problema conocido.\n",
            "```\n"
          ]
        }
      ]
    },
    {
      "cell_type": "code",
      "source": [
        "# final_chain: sequentially processes the customer message\n",
        "final_chain = (\n",
        "    RunnablePassthrough.assign(orig_language=llm_chain1)  # Step 1: Detect language\n",
        "    .assign(tran_message=llm_chain2)                      # Step 2: Translate message to English\n",
        "    .assign(tran_response=llm_chain3)                     # Step 3: Generate resolution in English\n",
        "    .assign(final_response=llm_chain4)                    # Step 4: Translate resolution to original language\n",
        ")"
      ],
      "metadata": {
        "id": "cVn4u58cWrXa"
      },
      "execution_count": null,
      "outputs": []
    },
    {
      "cell_type": "code",
      "source": [
        "{\"orig_message\": it_support_queue[1]}"
      ],
      "metadata": {
        "colab": {
          "base_uri": "https://localhost:8080/"
        },
        "id": "pVPCaD4-vIQG",
        "outputId": "07ee1762-542c-429e-8877-38f2719e5e8f"
      },
      "execution_count": null,
      "outputs": [
        {
          "output_type": "execute_result",
          "data": {
            "text/plain": [
              "{'orig_message': 'Tengo problemas con la VPN. No puedo conectarme a la red de la empresa. ¿Pueden ayudarme, por favor?'}"
            ]
          },
          "metadata": {},
          "execution_count": 33
        }
      ]
    },
    {
      "cell_type": "code",
      "source": [
        "response = final_chain.invoke({\"orig_message\": it_support_queue[1]})\n",
        "response"
      ],
      "metadata": {
        "colab": {
          "base_uri": "https://localhost:8080/"
        },
        "id": "FminCB5lvPUz",
        "outputId": "a5e9ebec-9a30-4357-f84b-89e175d2d57b"
      },
      "execution_count": null,
      "outputs": [
        {
          "output_type": "execute_result",
          "data": {
            "text/plain": [
              "{'orig_message': 'Tengo problemas con la VPN. No puedo conectarme a la red de la empresa. ¿Pueden ayudarme, por favor?',\n",
              " 'orig_language': 'Spanish',\n",
              " 'tran_message': \"I'm having problems with the VPN. I can't connect to the company network. Can you please help me?\",\n",
              " 'tran_response': \"Subject: Re: VPN Connection Issue\\n\\nHi [Customer Name],\\n\\nThanks for contacting us about your VPN connection issue.  I understand you're unable to connect to the company network.  To help me troubleshoot this, could you please provide me with the following information:\\n\\n* **Your operating system:** (e.g., Windows 10, macOS Monterey, iOS 16)\\n* **Your device:** (e.g., Laptop, Desktop, Mobile Phone)\\n* **The exact error message you are receiving:** (If any, please copy and paste the message)\\n* **Have you tried restarting your computer/device?**\\n* **Have you tried restarting your router/modem?**\\n* **What VPN client are you using?** (e.g., Cisco AnyConnect, OpenVPN)\\n* **Have you checked your company's VPN connection instructions/help page?** (If so, which steps did you try?)\\n\\n\\nOnce I have this information, I can assist you more effectively.  In the meantime, you can also try these basic troubleshooting steps:\\n\\n* **Check your internet connection:** Ensure you have a stable internet connection.\\n* **Check your VPN settings:** Make sure your VPN client is configured correctly with the correct server address and credentials.\\n* **Check your firewall:**  Ensure your firewall isn't blocking the VPN connection.  You may need to temporarily disable it for testing purposes (remember to re-enable it afterwards).\\n\\n\\nWe appreciate your patience and will do our best to resolve this issue for you as quickly as possible.\\n\\nSincerely,\\n\\nThe [Your Company Name] Support Team\",\n",
              " 'final_response': '```\\nAsunto: Re: Problema de conexión VPN\\n\\nHola [Nombre del cliente],\\n\\nGracias por contactarnos sobre su problema de conexión VPN. Entiendo que no puede conectarse a la red de la empresa. Para ayudarme a solucionar este problema, ¿podría proporcionarme la siguiente información?\\n\\n* **Su sistema operativo:** (ej., Windows 10, macOS Monterey, iOS 16)\\n* **Su dispositivo:** (ej., Portátil, Escritorio, Teléfono móvil)\\n* **El mensaje de error exacto que está recibiendo:** (Si hay alguno, copie y pegue el mensaje)\\n* **¿Ha intentado reiniciar su computadora/dispositivo?**\\n* **¿Ha intentado reiniciar su router/módem?**\\n* **¿Qué cliente VPN está utilizando?** (ej., Cisco AnyConnect, OpenVPN)\\n* **¿Ha revisado las instrucciones/página de ayuda de la conexión VPN de la empresa?** (Si es así, ¿qué pasos ha intentado?)\\n\\n\\nUna vez que tenga esta información, podré ayudarle de manera más eficaz. Mientras tanto, también puede intentar estos pasos básicos de solución de problemas:\\n\\n* **Compruebe su conexión a internet:** Asegúrese de tener una conexión a internet estable.\\n* **Compruebe la configuración de su VPN:** Asegúrese de que su cliente VPN esté configurado correctamente con la dirección del servidor y las credenciales correctas.\\n* **Compruebe su firewall:** Asegúrese de que su firewall no esté bloqueando la conexión VPN. Es posible que deba deshabilitarlo temporalmente para realizar pruebas (recuerde volver a habilitarlo después).\\n\\n\\nAgradecemos su paciencia y haremos todo lo posible para resolver este problema lo más rápido posible.\\n\\nAtentamente,\\n\\nEl equipo de soporte de [Nombre de su empresa]\\n```'}"
            ]
          },
          "metadata": {},
          "execution_count": 36
        }
      ]
    },
    {
      "cell_type": "code",
      "source": [
        "it_support_queue"
      ],
      "metadata": {
        "id": "6mAgLLI6vdyH",
        "colab": {
          "base_uri": "https://localhost:8080/"
        },
        "outputId": "6ca40210-6ca8-4c82-9a9c-9d31aca1d5f8"
      },
      "execution_count": null,
      "outputs": [
        {
          "output_type": "execute_result",
          "data": {
            "text/plain": [
              "[\"I can't access my email. It keeps showing an error message. Please help.\",\n",
              " 'Tengo problemas con la VPN. No puedo conectarme a la red de la empresa. ¿Pueden ayudarme, por favor?',\n",
              " \"Mon imprimante ne répond pas et n'imprime plus. J'ai besoin d'aide pour la réparer.\",\n",
              " '我无法访问公司的网站。每次都显示错误信息。请帮忙解决。']"
            ]
          },
          "metadata": {},
          "execution_count": 37
        }
      ]
    },
    {
      "cell_type": "code",
      "source": [
        "it_support_queue_formatted = [{\"orig_message\": msg} for msg in it_support_queue]\n",
        "it_support_queue_formatted"
      ],
      "metadata": {
        "colab": {
          "base_uri": "https://localhost:8080/"
        },
        "id": "fY5ztThKXvHX",
        "outputId": "5f38fc67-aba9-4e28-c18b-2deb6f11ca13"
      },
      "execution_count": null,
      "outputs": [
        {
          "output_type": "execute_result",
          "data": {
            "text/plain": [
              "[{'orig_message': \"I can't access my email. It keeps showing an error message. Please help.\"},\n",
              " {'orig_message': 'Tengo problemas con la VPN. No puedo conectarme a la red de la empresa. ¿Pueden ayudarme, por favor?'},\n",
              " {'orig_message': \"Mon imprimante ne répond pas et n'imprime plus. J'ai besoin d'aide pour la réparer.\"},\n",
              " {'orig_message': '我无法访问公司的网站。每次都显示错误信息。请帮忙解决。'}]"
            ]
          },
          "metadata": {},
          "execution_count": 38
        }
      ]
    },
    {
      "cell_type": "code",
      "source": [
        "response = final_chain.map().invoke(it_support_queue_formatted)\n",
        "response"
      ],
      "metadata": {
        "colab": {
          "base_uri": "https://localhost:8080/"
        },
        "id": "Tksl2vjPYKrQ",
        "outputId": "b784874f-7b7a-4f44-ddbc-eb7804f969ab"
      },
      "execution_count": null,
      "outputs": [
        {
          "output_type": "execute_result",
          "data": {
            "text/plain": [
              "[{'orig_message': \"I can't access my email. It keeps showing an error message. Please help.\",\n",
              "  'orig_language': 'English',\n",
              "  'tran_message': \"I can't access my email. It keeps showing an error message. Please help.\",\n",
              "  'tran_response': \"I understand you're having trouble accessing your email and are receiving an error message.  To help me assist you better, could you please provide me with the following information:\\n\\n* **What is the exact error message you are seeing?** (Please copy and paste the message if possible).\\n* **What email provider are you using?** (e.g., Gmail, Yahoo, Outlook, etc.)\\n* **What device are you using to access your email?** (e.g., computer, phone, tablet)\\n* **What operating system are you using?** (e.g., Windows 10, iOS 16, Android 13)\\n* **Have you tried restarting your device?**\\n* **Have you checked your internet connection?**\\n\\nOnce I have this information, I can provide more specific troubleshooting steps.  We'll get this resolved for you!\",\n",
              "  'final_response': \"I understand you're having trouble accessing your email and are receiving an error message.  To help me assist you better, could you please provide me with the following information:\\n\\n* **What is the exact error message you are seeing?** (Please copy and paste the message if possible).\\n* **What email provider are you using?** (e.g., Gmail, Yahoo, Outlook, etc.)\\n* **What device are you using to access your email?** (e.g., computer, phone, tablet)\\n* **What operating system are you using?** (e.g., Windows 10, iOS 16, Android 13)\\n* **Have you tried restarting your device?**\\n* **Have you checked your internet connection?**\\n\\nOnce I have this information, I can provide more specific troubleshooting steps.  We'll get this resolved for you!\"},\n",
              " {'orig_message': 'Tengo problemas con la VPN. No puedo conectarme a la red de la empresa. ¿Pueden ayudarme, por favor?',\n",
              "  'orig_language': 'Spanish',\n",
              "  'tran_message': \"I'm having problems with the VPN. I can't connect to the company network. Can you please help me?\",\n",
              "  'tran_response': \"Thank you for contacting support. I understand you're having trouble connecting to the company network via VPN.  To help me troubleshoot this, could you please provide me with the following information:\\n\\n* **What operating system are you using?** (e.g., Windows 10, macOS Monterey, iOS 16, Android 13)\\n* **What VPN client are you using?** (e.g., Cisco AnyConnect, OpenVPN, etc.)\\n* **What error message, if any, are you receiving?** Please provide the exact wording of the error message.\\n* **Have you tried restarting your computer and/or your VPN client?**\\n* **Are you connecting from a location you normally connect from?**  If not, is this a new location or a different network (e.g., public Wi-Fi)?\\n* **Can you access the internet normally without the VPN?**\\n\\nOnce I have this information, I can assist you more effectively.  In the meantime, you might also try checking your network connection and ensuring that your company's VPN server address is correctly entered in your VPN client.\",\n",
              "  'final_response': '```\\nGracias por contactar con el soporte. Entiendo que tiene problemas para conectarse a la red de la empresa a través de VPN. Para ayudarme a solucionar este problema, ¿podría proporcionarme la siguiente información?\\n\\n* **¿Qué sistema operativo está utilizando?** (por ejemplo, Windows 10, macOS Monterey, iOS 16, Android 13)\\n* **¿Qué cliente VPN está utilizando?** (por ejemplo, Cisco AnyConnect, OpenVPN, etc.)\\n* **¿Qué mensaje de error, si lo hay, está recibiendo?** Proporcione la redacción exacta del mensaje de error.\\n* **¿Ha intentado reiniciar su ordenador y/o su cliente VPN?**\\n* **¿Se conecta desde una ubicación desde la que normalmente se conecta?** Si no es así, ¿es una ubicación nueva o una red diferente (por ejemplo, Wi-Fi pública)?\\n* **¿Puede acceder a Internet normalmente sin la VPN?**\\n\\nUna vez que tenga esta información, podré ayudarle con mayor eficacia. Mientras tanto, también puede intentar comprobar su conexión de red y asegurarse de que la dirección del servidor VPN de su empresa se ha introducido correctamente en su cliente VPN.\\n```'},\n",
              " {'orig_message': \"Mon imprimante ne répond pas et n'imprime plus. J'ai besoin d'aide pour la réparer.\",\n",
              "  'orig_language': 'French',\n",
              "  'tran_message': 'My printer is not responding and no longer printing. I need help to fix it.',\n",
              "  'tran_response': \"I'm sorry to hear you're having trouble with your printer.  To help me troubleshoot this, could you please provide me with some more information?\\n\\n1. **What is the make and model of your printer?** (e.g., HP LaserJet Pro MFP M130a)\\n2. **What operating system are you using?** (e.g., Windows 10, macOS Monterey, iOS)\\n3. **What type of connection are you using?** (e.g., USB, Wi-Fi, Ethernet)\\n4. **What happens when you try to print?** (e.g., Does anything appear on the printer's control panel? Do you get an error message on your computer?)\\n5. **Have you tried restarting both your printer and your computer?**\\n\\nOnce I have this information, I can provide more specific troubleshooting steps.  We can also try some basic fixes like checking the power cord, ink/toner levels, and paper jams.  If the problem persists after these steps, we may need to explore more advanced troubleshooting options.\",\n",
              "  'final_response': \"```\\nJe suis désolé d'apprendre que vous rencontrez des problèmes avec votre imprimante. Pour m'aider à résoudre ce problème, pourriez-vous me fournir plus d'informations\\xa0?\\n\\n1. **Quelle est la marque et le modèle de votre imprimante\\xa0?** (par exemple, HP LaserJet Pro MFP M130a)\\n2. **Quel système d'exploitation utilisez-vous\\xa0?** (par exemple, Windows 10, macOS Monterey, iOS)\\n3. **Quel type de connexion utilisez-vous\\xa0?** (par exemple, USB, Wi-Fi, Ethernet)\\n4. **Que se passe-t-il lorsque vous essayez d'imprimer\\xa0?** (par exemple, quelque chose apparaît-il sur le panneau de commande de l'imprimante\\xa0? Recevez-vous un message d'erreur sur votre ordinateur\\xa0?)\\n5. **Avez-vous essayé de redémarrer à la fois votre imprimante et votre ordinateur\\xa0?**\\n\\nUne fois que j'aurai ces informations, je pourrai vous fournir des étapes de dépannage plus spécifiques. Nous pouvons également essayer des solutions de base comme vérifier le cordon d'alimentation, les niveaux d'encre/toner et les bourrages papier. Si le problème persiste après ces étapes, nous devrons peut-être explorer des options de dépannage plus avancées.\\n```\"},\n",
              " {'orig_message': '我无法访问公司的网站。每次都显示错误信息。请帮忙解决。',\n",
              "  'orig_language': 'Chinese',\n",
              "  'tran_message': 'I cannot access the company website.  I get an error message every time. Please help me resolve this.',\n",
              "  'tran_response': \"I understand you're having trouble accessing our website and are receiving an error message.  To help me resolve this for you, could you please provide me with the following information:\\n\\n* **The exact error message:** Please copy and paste the entire error message you are seeing.  Screenshots are also helpful.\\n* **Your browser and version:** (e.g., Chrome 114, Firefox 115, Safari 16)\\n* **Your operating system:** (e.g., Windows 10, macOS Ventura, iOS 16)\\n* **Your internet connection:** (e.g., Wi-Fi, Ethernet, Mobile Data)  Are you able to access other websites?\\n\\nOnce I have this information, I can better assist you in troubleshooting the issue.  In the meantime, you might try the following:\\n\\n* **Clearing your browser's cache and cookies:** This can often resolve temporary issues.\\n* **Trying a different browser:** This helps determine if the problem is browser-specific.\\n* **Restarting your computer and router:** A simple reboot can sometimes fix connectivity problems.\\n\\nWe appreciate your patience and will do our best to get you back online as quickly as possible.\",\n",
              "  'final_response': '```\\n我了解您在访问我们的网站时遇到问题并收到错误消息。为了帮助您解决这个问题，请您提供以下信息：\\n\\n* **具体的错误消息：** 请复制粘贴您看到的完整错误消息。截图也很有帮助。\\n* **您的浏览器和版本：**（例如，Chrome 114，Firefox 115，Safari 16）\\n* **您的操作系统：**（例如，Windows 10，macOS Ventura，iOS 16）\\n* **您的互联网连接：**（例如，Wi-Fi，以太网，移动数据）您能否访问其他网站？\\n\\n一旦我获得这些信息，我就能更好地帮助您排除故障。在此期间，您可以尝试以下方法：\\n\\n* **清除浏览器缓存和 Cookie：** 这通常可以解决临时问题。\\n* **尝试不同的浏览器：** 这有助于确定问题是否是特定于浏览器的。\\n* **重启您的电脑和路由器：**简单的重启有时可以解决连接问题。\\n\\n感谢您的耐心等待，我们将尽最大努力尽快让您重新上线。\\n```'}]"
            ]
          },
          "metadata": {},
          "execution_count": 40
        }
      ]
    },
    {
      "cell_type": "code",
      "source": [
        "import pandas as pd\n",
        "pd.DataFrame(response)"
      ],
      "metadata": {
        "colab": {
          "base_uri": "https://localhost:8080/",
          "height": 279
        },
        "id": "hIX19TgGYU_G",
        "outputId": "fff563ca-9db0-4336-c080-53048b85225f"
      },
      "execution_count": null,
      "outputs": [
        {
          "output_type": "execute_result",
          "data": {
            "text/plain": [
              "                                        orig_message orig_language  \\\n",
              "0  I can't access my email. It keeps showing an e...       English   \n",
              "1  Tengo problemas con la VPN. No puedo conectarm...       Spanish   \n",
              "2  Mon imprimante ne répond pas et n'imprime plus...        French   \n",
              "3                        我无法访问公司的网站。每次都显示错误信息。请帮忙解决。       Chinese   \n",
              "\n",
              "                                        tran_message  \\\n",
              "0  I can't access my email. It keeps showing an e...   \n",
              "1  I'm having problems with the VPN. I can't conn...   \n",
              "2  My printer is not responding and no longer pri...   \n",
              "3  I cannot access the company website.  I get an...   \n",
              "\n",
              "                                       tran_response  \\\n",
              "0  I understand you're having trouble accessing y...   \n",
              "1  Thank you for contacting support. I understand...   \n",
              "2  I'm sorry to hear you're having trouble with y...   \n",
              "3  I understand you're having trouble accessing o...   \n",
              "\n",
              "                                      final_response  \n",
              "0  I understand you're having trouble accessing y...  \n",
              "1  ```\\nGracias por contactar con el soporte. Ent...  \n",
              "2  ```\\nJe suis désolé d'apprendre que vous renco...  \n",
              "3  ```\\n我了解您在访问我们的网站时遇到问题并收到错误消息。为了帮助您解决这个问题，请您提供...  "
            ],
            "text/html": [
              "\n",
              "  <div id=\"df-8b4297a5-82c1-4ffe-9850-25185136bc5e\" class=\"colab-df-container\">\n",
              "    <div>\n",
              "<style scoped>\n",
              "    .dataframe tbody tr th:only-of-type {\n",
              "        vertical-align: middle;\n",
              "    }\n",
              "\n",
              "    .dataframe tbody tr th {\n",
              "        vertical-align: top;\n",
              "    }\n",
              "\n",
              "    .dataframe thead th {\n",
              "        text-align: right;\n",
              "    }\n",
              "</style>\n",
              "<table border=\"1\" class=\"dataframe\">\n",
              "  <thead>\n",
              "    <tr style=\"text-align: right;\">\n",
              "      <th></th>\n",
              "      <th>orig_message</th>\n",
              "      <th>orig_language</th>\n",
              "      <th>tran_message</th>\n",
              "      <th>tran_response</th>\n",
              "      <th>final_response</th>\n",
              "    </tr>\n",
              "  </thead>\n",
              "  <tbody>\n",
              "    <tr>\n",
              "      <th>0</th>\n",
              "      <td>I can't access my email. It keeps showing an e...</td>\n",
              "      <td>English</td>\n",
              "      <td>I can't access my email. It keeps showing an e...</td>\n",
              "      <td>I understand you're having trouble accessing y...</td>\n",
              "      <td>I understand you're having trouble accessing y...</td>\n",
              "    </tr>\n",
              "    <tr>\n",
              "      <th>1</th>\n",
              "      <td>Tengo problemas con la VPN. No puedo conectarm...</td>\n",
              "      <td>Spanish</td>\n",
              "      <td>I'm having problems with the VPN. I can't conn...</td>\n",
              "      <td>Thank you for contacting support. I understand...</td>\n",
              "      <td>```\\nGracias por contactar con el soporte. Ent...</td>\n",
              "    </tr>\n",
              "    <tr>\n",
              "      <th>2</th>\n",
              "      <td>Mon imprimante ne répond pas et n'imprime plus...</td>\n",
              "      <td>French</td>\n",
              "      <td>My printer is not responding and no longer pri...</td>\n",
              "      <td>I'm sorry to hear you're having trouble with y...</td>\n",
              "      <td>```\\nJe suis désolé d'apprendre que vous renco...</td>\n",
              "    </tr>\n",
              "    <tr>\n",
              "      <th>3</th>\n",
              "      <td>我无法访问公司的网站。每次都显示错误信息。请帮忙解决。</td>\n",
              "      <td>Chinese</td>\n",
              "      <td>I cannot access the company website.  I get an...</td>\n",
              "      <td>I understand you're having trouble accessing o...</td>\n",
              "      <td>```\\n我了解您在访问我们的网站时遇到问题并收到错误消息。为了帮助您解决这个问题，请您提供...</td>\n",
              "    </tr>\n",
              "  </tbody>\n",
              "</table>\n",
              "</div>\n",
              "    <div class=\"colab-df-buttons\">\n",
              "\n",
              "  <div class=\"colab-df-container\">\n",
              "    <button class=\"colab-df-convert\" onclick=\"convertToInteractive('df-8b4297a5-82c1-4ffe-9850-25185136bc5e')\"\n",
              "            title=\"Convert this dataframe to an interactive table.\"\n",
              "            style=\"display:none;\">\n",
              "\n",
              "  <svg xmlns=\"http://www.w3.org/2000/svg\" height=\"24px\" viewBox=\"0 -960 960 960\">\n",
              "    <path d=\"M120-120v-720h720v720H120Zm60-500h600v-160H180v160Zm220 220h160v-160H400v160Zm0 220h160v-160H400v160ZM180-400h160v-160H180v160Zm440 0h160v-160H620v160ZM180-180h160v-160H180v160Zm440 0h160v-160H620v160Z\"/>\n",
              "  </svg>\n",
              "    </button>\n",
              "\n",
              "  <style>\n",
              "    .colab-df-container {\n",
              "      display:flex;\n",
              "      gap: 12px;\n",
              "    }\n",
              "\n",
              "    .colab-df-convert {\n",
              "      background-color: #E8F0FE;\n",
              "      border: none;\n",
              "      border-radius: 50%;\n",
              "      cursor: pointer;\n",
              "      display: none;\n",
              "      fill: #1967D2;\n",
              "      height: 32px;\n",
              "      padding: 0 0 0 0;\n",
              "      width: 32px;\n",
              "    }\n",
              "\n",
              "    .colab-df-convert:hover {\n",
              "      background-color: #E2EBFA;\n",
              "      box-shadow: 0px 1px 2px rgba(60, 64, 67, 0.3), 0px 1px 3px 1px rgba(60, 64, 67, 0.15);\n",
              "      fill: #174EA6;\n",
              "    }\n",
              "\n",
              "    .colab-df-buttons div {\n",
              "      margin-bottom: 4px;\n",
              "    }\n",
              "\n",
              "    [theme=dark] .colab-df-convert {\n",
              "      background-color: #3B4455;\n",
              "      fill: #D2E3FC;\n",
              "    }\n",
              "\n",
              "    [theme=dark] .colab-df-convert:hover {\n",
              "      background-color: #434B5C;\n",
              "      box-shadow: 0px 1px 3px 1px rgba(0, 0, 0, 0.15);\n",
              "      filter: drop-shadow(0px 1px 2px rgba(0, 0, 0, 0.3));\n",
              "      fill: #FFFFFF;\n",
              "    }\n",
              "  </style>\n",
              "\n",
              "    <script>\n",
              "      const buttonEl =\n",
              "        document.querySelector('#df-8b4297a5-82c1-4ffe-9850-25185136bc5e button.colab-df-convert');\n",
              "      buttonEl.style.display =\n",
              "        google.colab.kernel.accessAllowed ? 'block' : 'none';\n",
              "\n",
              "      async function convertToInteractive(key) {\n",
              "        const element = document.querySelector('#df-8b4297a5-82c1-4ffe-9850-25185136bc5e');\n",
              "        const dataTable =\n",
              "          await google.colab.kernel.invokeFunction('convertToInteractive',\n",
              "                                                    [key], {});\n",
              "        if (!dataTable) return;\n",
              "\n",
              "        const docLinkHtml = 'Like what you see? Visit the ' +\n",
              "          '<a target=\"_blank\" href=https://colab.research.google.com/notebooks/data_table.ipynb>data table notebook</a>'\n",
              "          + ' to learn more about interactive tables.';\n",
              "        element.innerHTML = '';\n",
              "        dataTable['output_type'] = 'display_data';\n",
              "        await google.colab.output.renderOutput(dataTable, element);\n",
              "        const docLink = document.createElement('div');\n",
              "        docLink.innerHTML = docLinkHtml;\n",
              "        element.appendChild(docLink);\n",
              "      }\n",
              "    </script>\n",
              "  </div>\n",
              "\n",
              "\n",
              "    <div id=\"df-fd3a1e00-c1ea-4691-8f27-65818689fbc2\">\n",
              "      <button class=\"colab-df-quickchart\" onclick=\"quickchart('df-fd3a1e00-c1ea-4691-8f27-65818689fbc2')\"\n",
              "                title=\"Suggest charts\"\n",
              "                style=\"display:none;\">\n",
              "\n",
              "<svg xmlns=\"http://www.w3.org/2000/svg\" height=\"24px\"viewBox=\"0 0 24 24\"\n",
              "     width=\"24px\">\n",
              "    <g>\n",
              "        <path d=\"M19 3H5c-1.1 0-2 .9-2 2v14c0 1.1.9 2 2 2h14c1.1 0 2-.9 2-2V5c0-1.1-.9-2-2-2zM9 17H7v-7h2v7zm4 0h-2V7h2v10zm4 0h-2v-4h2v4z\"/>\n",
              "    </g>\n",
              "</svg>\n",
              "      </button>\n",
              "\n",
              "<style>\n",
              "  .colab-df-quickchart {\n",
              "      --bg-color: #E8F0FE;\n",
              "      --fill-color: #1967D2;\n",
              "      --hover-bg-color: #E2EBFA;\n",
              "      --hover-fill-color: #174EA6;\n",
              "      --disabled-fill-color: #AAA;\n",
              "      --disabled-bg-color: #DDD;\n",
              "  }\n",
              "\n",
              "  [theme=dark] .colab-df-quickchart {\n",
              "      --bg-color: #3B4455;\n",
              "      --fill-color: #D2E3FC;\n",
              "      --hover-bg-color: #434B5C;\n",
              "      --hover-fill-color: #FFFFFF;\n",
              "      --disabled-bg-color: #3B4455;\n",
              "      --disabled-fill-color: #666;\n",
              "  }\n",
              "\n",
              "  .colab-df-quickchart {\n",
              "    background-color: var(--bg-color);\n",
              "    border: none;\n",
              "    border-radius: 50%;\n",
              "    cursor: pointer;\n",
              "    display: none;\n",
              "    fill: var(--fill-color);\n",
              "    height: 32px;\n",
              "    padding: 0;\n",
              "    width: 32px;\n",
              "  }\n",
              "\n",
              "  .colab-df-quickchart:hover {\n",
              "    background-color: var(--hover-bg-color);\n",
              "    box-shadow: 0 1px 2px rgba(60, 64, 67, 0.3), 0 1px 3px 1px rgba(60, 64, 67, 0.15);\n",
              "    fill: var(--button-hover-fill-color);\n",
              "  }\n",
              "\n",
              "  .colab-df-quickchart-complete:disabled,\n",
              "  .colab-df-quickchart-complete:disabled:hover {\n",
              "    background-color: var(--disabled-bg-color);\n",
              "    fill: var(--disabled-fill-color);\n",
              "    box-shadow: none;\n",
              "  }\n",
              "\n",
              "  .colab-df-spinner {\n",
              "    border: 2px solid var(--fill-color);\n",
              "    border-color: transparent;\n",
              "    border-bottom-color: var(--fill-color);\n",
              "    animation:\n",
              "      spin 1s steps(1) infinite;\n",
              "  }\n",
              "\n",
              "  @keyframes spin {\n",
              "    0% {\n",
              "      border-color: transparent;\n",
              "      border-bottom-color: var(--fill-color);\n",
              "      border-left-color: var(--fill-color);\n",
              "    }\n",
              "    20% {\n",
              "      border-color: transparent;\n",
              "      border-left-color: var(--fill-color);\n",
              "      border-top-color: var(--fill-color);\n",
              "    }\n",
              "    30% {\n",
              "      border-color: transparent;\n",
              "      border-left-color: var(--fill-color);\n",
              "      border-top-color: var(--fill-color);\n",
              "      border-right-color: var(--fill-color);\n",
              "    }\n",
              "    40% {\n",
              "      border-color: transparent;\n",
              "      border-right-color: var(--fill-color);\n",
              "      border-top-color: var(--fill-color);\n",
              "    }\n",
              "    60% {\n",
              "      border-color: transparent;\n",
              "      border-right-color: var(--fill-color);\n",
              "    }\n",
              "    80% {\n",
              "      border-color: transparent;\n",
              "      border-right-color: var(--fill-color);\n",
              "      border-bottom-color: var(--fill-color);\n",
              "    }\n",
              "    90% {\n",
              "      border-color: transparent;\n",
              "      border-bottom-color: var(--fill-color);\n",
              "    }\n",
              "  }\n",
              "</style>\n",
              "\n",
              "      <script>\n",
              "        async function quickchart(key) {\n",
              "          const quickchartButtonEl =\n",
              "            document.querySelector('#' + key + ' button');\n",
              "          quickchartButtonEl.disabled = true;  // To prevent multiple clicks.\n",
              "          quickchartButtonEl.classList.add('colab-df-spinner');\n",
              "          try {\n",
              "            const charts = await google.colab.kernel.invokeFunction(\n",
              "                'suggestCharts', [key], {});\n",
              "          } catch (error) {\n",
              "            console.error('Error during call to suggestCharts:', error);\n",
              "          }\n",
              "          quickchartButtonEl.classList.remove('colab-df-spinner');\n",
              "          quickchartButtonEl.classList.add('colab-df-quickchart-complete');\n",
              "        }\n",
              "        (() => {\n",
              "          let quickchartButtonEl =\n",
              "            document.querySelector('#df-fd3a1e00-c1ea-4691-8f27-65818689fbc2 button');\n",
              "          quickchartButtonEl.style.display =\n",
              "            google.colab.kernel.accessAllowed ? 'block' : 'none';\n",
              "        })();\n",
              "      </script>\n",
              "    </div>\n",
              "\n",
              "    </div>\n",
              "  </div>\n"
            ],
            "application/vnd.google.colaboratory.intrinsic+json": {
              "type": "dataframe",
              "summary": "{\n  \"name\": \"pd\",\n  \"rows\": 4,\n  \"fields\": [\n    {\n      \"column\": \"orig_message\",\n      \"properties\": {\n        \"dtype\": \"string\",\n        \"num_unique_values\": 4,\n        \"samples\": [\n          \"Tengo problemas con la VPN. No puedo conectarme a la red de la empresa. \\u00bfPueden ayudarme, por favor?\",\n          \"\\u6211\\u65e0\\u6cd5\\u8bbf\\u95ee\\u516c\\u53f8\\u7684\\u7f51\\u7ad9\\u3002\\u6bcf\\u6b21\\u90fd\\u663e\\u793a\\u9519\\u8bef\\u4fe1\\u606f\\u3002\\u8bf7\\u5e2e\\u5fd9\\u89e3\\u51b3\\u3002\",\n          \"I can't access my email. It keeps showing an error message. Please help.\"\n        ],\n        \"semantic_type\": \"\",\n        \"description\": \"\"\n      }\n    },\n    {\n      \"column\": \"orig_language\",\n      \"properties\": {\n        \"dtype\": \"string\",\n        \"num_unique_values\": 4,\n        \"samples\": [\n          \"Spanish\",\n          \"Chinese\",\n          \"English\"\n        ],\n        \"semantic_type\": \"\",\n        \"description\": \"\"\n      }\n    },\n    {\n      \"column\": \"tran_message\",\n      \"properties\": {\n        \"dtype\": \"string\",\n        \"num_unique_values\": 4,\n        \"samples\": [\n          \"I'm having problems with the VPN. I can't connect to the company network. Can you please help me?\",\n          \"I cannot access the company website.  I get an error message every time. Please help me resolve this.\",\n          \"I can't access my email. It keeps showing an error message. Please help.\"\n        ],\n        \"semantic_type\": \"\",\n        \"description\": \"\"\n      }\n    },\n    {\n      \"column\": \"tran_response\",\n      \"properties\": {\n        \"dtype\": \"string\",\n        \"num_unique_values\": 4,\n        \"samples\": [\n          \"Thank you for contacting support. I understand you're having trouble connecting to the company network via VPN.  To help me troubleshoot this, could you please provide me with the following information:\\n\\n* **What operating system are you using?** (e.g., Windows 10, macOS Monterey, iOS 16, Android 13)\\n* **What VPN client are you using?** (e.g., Cisco AnyConnect, OpenVPN, etc.)\\n* **What error message, if any, are you receiving?** Please provide the exact wording of the error message.\\n* **Have you tried restarting your computer and/or your VPN client?**\\n* **Are you connecting from a location you normally connect from?**  If not, is this a new location or a different network (e.g., public Wi-Fi)?\\n* **Can you access the internet normally without the VPN?**\\n\\nOnce I have this information, I can assist you more effectively.  In the meantime, you might also try checking your network connection and ensuring that your company's VPN server address is correctly entered in your VPN client.\",\n          \"I understand you're having trouble accessing our website and are receiving an error message.  To help me resolve this for you, could you please provide me with the following information:\\n\\n* **The exact error message:** Please copy and paste the entire error message you are seeing.  Screenshots are also helpful.\\n* **Your browser and version:** (e.g., Chrome 114, Firefox 115, Safari 16)\\n* **Your operating system:** (e.g., Windows 10, macOS Ventura, iOS 16)\\n* **Your internet connection:** (e.g., Wi-Fi, Ethernet, Mobile Data)  Are you able to access other websites?\\n\\nOnce I have this information, I can better assist you in troubleshooting the issue.  In the meantime, you might try the following:\\n\\n* **Clearing your browser's cache and cookies:** This can often resolve temporary issues.\\n* **Trying a different browser:** This helps determine if the problem is browser-specific.\\n* **Restarting your computer and router:** A simple reboot can sometimes fix connectivity problems.\\n\\nWe appreciate your patience and will do our best to get you back online as quickly as possible.\",\n          \"I understand you're having trouble accessing your email and are receiving an error message.  To help me assist you better, could you please provide me with the following information:\\n\\n* **What is the exact error message you are seeing?** (Please copy and paste the message if possible).\\n* **What email provider are you using?** (e.g., Gmail, Yahoo, Outlook, etc.)\\n* **What device are you using to access your email?** (e.g., computer, phone, tablet)\\n* **What operating system are you using?** (e.g., Windows 10, iOS 16, Android 13)\\n* **Have you tried restarting your device?**\\n* **Have you checked your internet connection?**\\n\\nOnce I have this information, I can provide more specific troubleshooting steps.  We'll get this resolved for you!\"\n        ],\n        \"semantic_type\": \"\",\n        \"description\": \"\"\n      }\n    },\n    {\n      \"column\": \"final_response\",\n      \"properties\": {\n        \"dtype\": \"string\",\n        \"num_unique_values\": 4,\n        \"samples\": [\n          \"```\\nGracias por contactar con el soporte. Entiendo que tiene problemas para conectarse a la red de la empresa a trav\\u00e9s de VPN. Para ayudarme a solucionar este problema, \\u00bfpodr\\u00eda proporcionarme la siguiente informaci\\u00f3n?\\n\\n* **\\u00bfQu\\u00e9 sistema operativo est\\u00e1 utilizando?** (por ejemplo, Windows 10, macOS Monterey, iOS 16, Android 13)\\n* **\\u00bfQu\\u00e9 cliente VPN est\\u00e1 utilizando?** (por ejemplo, Cisco AnyConnect, OpenVPN, etc.)\\n* **\\u00bfQu\\u00e9 mensaje de error, si lo hay, est\\u00e1 recibiendo?** Proporcione la redacci\\u00f3n exacta del mensaje de error.\\n* **\\u00bfHa intentado reiniciar su ordenador y/o su cliente VPN?**\\n* **\\u00bfSe conecta desde una ubicaci\\u00f3n desde la que normalmente se conecta?** Si no es as\\u00ed, \\u00bfes una ubicaci\\u00f3n nueva o una red diferente (por ejemplo, Wi-Fi p\\u00fablica)?\\n* **\\u00bfPuede acceder a Internet normalmente sin la VPN?**\\n\\nUna vez que tenga esta informaci\\u00f3n, podr\\u00e9 ayudarle con mayor eficacia. Mientras tanto, tambi\\u00e9n puede intentar comprobar su conexi\\u00f3n de red y asegurarse de que la direcci\\u00f3n del servidor VPN de su empresa se ha introducido correctamente en su cliente VPN.\\n```\",\n          \"```\\n\\u6211\\u4e86\\u89e3\\u60a8\\u5728\\u8bbf\\u95ee\\u6211\\u4eec\\u7684\\u7f51\\u7ad9\\u65f6\\u9047\\u5230\\u95ee\\u9898\\u5e76\\u6536\\u5230\\u9519\\u8bef\\u6d88\\u606f\\u3002\\u4e3a\\u4e86\\u5e2e\\u52a9\\u60a8\\u89e3\\u51b3\\u8fd9\\u4e2a\\u95ee\\u9898\\uff0c\\u8bf7\\u60a8\\u63d0\\u4f9b\\u4ee5\\u4e0b\\u4fe1\\u606f\\uff1a\\n\\n* **\\u5177\\u4f53\\u7684\\u9519\\u8bef\\u6d88\\u606f\\uff1a** \\u8bf7\\u590d\\u5236\\u7c98\\u8d34\\u60a8\\u770b\\u5230\\u7684\\u5b8c\\u6574\\u9519\\u8bef\\u6d88\\u606f\\u3002\\u622a\\u56fe\\u4e5f\\u5f88\\u6709\\u5e2e\\u52a9\\u3002\\n* **\\u60a8\\u7684\\u6d4f\\u89c8\\u5668\\u548c\\u7248\\u672c\\uff1a**\\uff08\\u4f8b\\u5982\\uff0cChrome 114\\uff0cFirefox 115\\uff0cSafari 16\\uff09\\n* **\\u60a8\\u7684\\u64cd\\u4f5c\\u7cfb\\u7edf\\uff1a**\\uff08\\u4f8b\\u5982\\uff0cWindows 10\\uff0cmacOS Ventura\\uff0ciOS 16\\uff09\\n* **\\u60a8\\u7684\\u4e92\\u8054\\u7f51\\u8fde\\u63a5\\uff1a**\\uff08\\u4f8b\\u5982\\uff0cWi-Fi\\uff0c\\u4ee5\\u592a\\u7f51\\uff0c\\u79fb\\u52a8\\u6570\\u636e\\uff09\\u60a8\\u80fd\\u5426\\u8bbf\\u95ee\\u5176\\u4ed6\\u7f51\\u7ad9\\uff1f\\n\\n\\u4e00\\u65e6\\u6211\\u83b7\\u5f97\\u8fd9\\u4e9b\\u4fe1\\u606f\\uff0c\\u6211\\u5c31\\u80fd\\u66f4\\u597d\\u5730\\u5e2e\\u52a9\\u60a8\\u6392\\u9664\\u6545\\u969c\\u3002\\u5728\\u6b64\\u671f\\u95f4\\uff0c\\u60a8\\u53ef\\u4ee5\\u5c1d\\u8bd5\\u4ee5\\u4e0b\\u65b9\\u6cd5\\uff1a\\n\\n* **\\u6e05\\u9664\\u6d4f\\u89c8\\u5668\\u7f13\\u5b58\\u548c Cookie\\uff1a** \\u8fd9\\u901a\\u5e38\\u53ef\\u4ee5\\u89e3\\u51b3\\u4e34\\u65f6\\u95ee\\u9898\\u3002\\n* **\\u5c1d\\u8bd5\\u4e0d\\u540c\\u7684\\u6d4f\\u89c8\\u5668\\uff1a** \\u8fd9\\u6709\\u52a9\\u4e8e\\u786e\\u5b9a\\u95ee\\u9898\\u662f\\u5426\\u662f\\u7279\\u5b9a\\u4e8e\\u6d4f\\u89c8\\u5668\\u7684\\u3002\\n* **\\u91cd\\u542f\\u60a8\\u7684\\u7535\\u8111\\u548c\\u8def\\u7531\\u5668\\uff1a**\\u7b80\\u5355\\u7684\\u91cd\\u542f\\u6709\\u65f6\\u53ef\\u4ee5\\u89e3\\u51b3\\u8fde\\u63a5\\u95ee\\u9898\\u3002\\n\\n\\u611f\\u8c22\\u60a8\\u7684\\u8010\\u5fc3\\u7b49\\u5f85\\uff0c\\u6211\\u4eec\\u5c06\\u5c3d\\u6700\\u5927\\u52aa\\u529b\\u5c3d\\u5feb\\u8ba9\\u60a8\\u91cd\\u65b0\\u4e0a\\u7ebf\\u3002\\n```\",\n          \"I understand you're having trouble accessing your email and are receiving an error message.  To help me assist you better, could you please provide me with the following information:\\n\\n* **What is the exact error message you are seeing?** (Please copy and paste the message if possible).\\n* **What email provider are you using?** (e.g., Gmail, Yahoo, Outlook, etc.)\\n* **What device are you using to access your email?** (e.g., computer, phone, tablet)\\n* **What operating system are you using?** (e.g., Windows 10, iOS 16, Android 13)\\n* **Have you tried restarting your device?**\\n* **Have you checked your internet connection?**\\n\\nOnce I have this information, I can provide more specific troubleshooting steps.  We'll get this resolved for you!\"\n        ],\n        \"semantic_type\": \"\",\n        \"description\": \"\"\n      }\n    }\n  ]\n}"
            }
          },
          "metadata": {},
          "execution_count": 41
        }
      ]
    },
    {
      "cell_type": "code",
      "source": [],
      "metadata": {
        "id": "epwOLA0yY-HH"
      },
      "execution_count": null,
      "outputs": []
    }
  ]
}